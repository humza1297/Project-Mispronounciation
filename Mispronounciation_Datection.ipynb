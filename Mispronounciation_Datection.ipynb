{
  "cells": [
    {
      "cell_type": "code",
      "execution_count": 5,
      "metadata": {
        "id": "Vw-kcnXAIM6L"
      },
      "outputs": [],
      "source": [
        "import IPython.display as ipd\n",
        "import librosa.display\n",
        "import matplotlib.pyplot as plt\n",
        "from pathlib import Path\n",
        "import pandas as pd\n",
        "from tqdm import tqdm\n"
      ]
    },
    {
      "cell_type": "code",
      "execution_count": 6,
      "metadata": {
        "colab": {
          "base_uri": "https://localhost:8080/"
        },
        "id": "r8SV1B4CDJLD",
        "outputId": "316eae7c-bcfa-4a94-a8e8-852c468aad8d"
      },
      "outputs": [
        {
          "name": "stdout",
          "output_type": "stream",
          "text": [
            "[ 0.0000000e+00  0.0000000e+00  0.0000000e+00 ... -2.8374862e-09\n",
            " -3.1501399e-09 -4.5060791e-09]\n"
          ]
        }
      ],
      "source": [
        "print(data)"
      ]
    },
    {
      "cell_type": "code",
      "execution_count": 7,
      "metadata": {
        "colab": {
          "base_uri": "https://localhost:8080/"
        },
        "id": "XpVL-Sn6DmNV",
        "outputId": "896d29e0-6905-4648-8dc2-3649742ffdd5"
      },
      "outputs": [
        {
          "name": "stdout",
          "output_type": "stream",
          "text": [
            "DataSet/1.family/001.m4a\n"
          ]
        }
      ],
      "source": [
        "print(example_bark)"
      ]
    },
    {
      "cell_type": "code",
      "execution_count": 8,
      "metadata": {
        "colab": {
          "base_uri": "https://localhost:8080/"
        },
        "id": "WBM66mVOiMRD",
        "outputId": "24214320-13ae-4f0c-8aec-eaa800830ae4"
      },
      "outputs": [
        {
          "name": "stdout",
          "output_type": "stream",
          "text": [
            "DataSet/\n"
          ]
        }
      ],
      "source": [
        "current_directory = 'DataSet/'\n",
        "\n",
        "fulldatasetpath = current_directory\n",
        "metadata = pd.read_csv('file_info_miss_1.csv')\n",
        "print(fulldatasetpath)"
      ]
    },
    {
      "cell_type": "code",
      "execution_count": 9,
      "metadata": {
        "colab": {
          "base_uri": "https://localhost:8080/",
          "height": 206
        },
        "id": "PPYzPoBPjqBd",
        "outputId": "b96edf5e-76f2-4133-eb04-bd04f56cdd14"
      },
      "outputs": [
        {
          "data": {
            "text/html": [
              "<div>\n",
              "<style scoped>\n",
              "    .dataframe tbody tr th:only-of-type {\n",
              "        vertical-align: middle;\n",
              "    }\n",
              "\n",
              "    .dataframe tbody tr th {\n",
              "        vertical-align: top;\n",
              "    }\n",
              "\n",
              "    .dataframe thead th {\n",
              "        text-align: right;\n",
              "    }\n",
              "</style>\n",
              "<table border=\"1\" class=\"dataframe\">\n",
              "  <thead>\n",
              "    <tr style=\"text-align: right;\">\n",
              "      <th></th>\n",
              "      <th>folder</th>\n",
              "      <th>filename</th>\n",
              "      <th>class</th>\n",
              "    </tr>\n",
              "  </thead>\n",
              "  <tbody>\n",
              "    <tr>\n",
              "      <th>0</th>\n",
              "      <td>1.family</td>\n",
              "      <td>001.m4a</td>\n",
              "      <td>1</td>\n",
              "    </tr>\n",
              "    <tr>\n",
              "      <th>1</th>\n",
              "      <td>1.family</td>\n",
              "      <td>002.m4a</td>\n",
              "      <td>1</td>\n",
              "    </tr>\n",
              "    <tr>\n",
              "      <th>2</th>\n",
              "      <td>1.family</td>\n",
              "      <td>003.m4a</td>\n",
              "      <td>1</td>\n",
              "    </tr>\n",
              "    <tr>\n",
              "      <th>3</th>\n",
              "      <td>1.family</td>\n",
              "      <td>004.m4a</td>\n",
              "      <td>1</td>\n",
              "    </tr>\n",
              "    <tr>\n",
              "      <th>4</th>\n",
              "      <td>1.family</td>\n",
              "      <td>005.m4a</td>\n",
              "      <td>1</td>\n",
              "    </tr>\n",
              "  </tbody>\n",
              "</table>\n",
              "</div>"
            ],
            "text/plain": [
              "     folder filename  class\n",
              "0  1.family  001.m4a      1\n",
              "1  1.family  002.m4a      1\n",
              "2  1.family  003.m4a      1\n",
              "3  1.family  004.m4a      1\n",
              "4  1.family  005.m4a      1"
            ]
          },
          "execution_count": 9,
          "metadata": {},
          "output_type": "execute_result"
        }
      ],
      "source": [
        "metadata.head()"
      ]
    },
    {
      "cell_type": "code",
      "execution_count": 10,
      "metadata": {
        "id": "hWniQOeSi8-E"
      },
      "outputs": [],
      "source": [
        "import numpy as np\n",
        "\n",
        "\n",
        "def extract_features(file_name):\n",
        "\n",
        "    try:\n",
        "        audio, sample_rate = librosa.load(file_name)\n",
        "        mfccs = librosa.feature.mfcc(y=audio, sr=sample_rate, n_mfcc=50)\n",
        "        mfccsscaled = np.mean(mfccs.T,axis=0)\n",
        "\n",
        "    except Exception as e:\n",
        "        print(\"Error encountered while parsing file: \", file_name)\n",
        "        return None\n",
        "    return mfccsscaled"
      ]
    },
    {
      "cell_type": "code",
      "execution_count": 11,
      "metadata": {
        "colab": {
          "base_uri": "https://localhost:8080/"
        },
        "id": "f-GTqHI3i-JM",
        "outputId": "5d64fc4f-e5fe-4cb8-f4ee-bf26d5ff88fe"
      },
      "outputs": [
        {
          "name": "stderr",
          "output_type": "stream",
          "text": [
            "  0%|          | 0/11138 [00:00<?, ?it/s]C:\\Users\\humza\\AppData\\Local\\Temp\\ipykernel_21452\\4029842003.py:7: UserWarning: PySoundFile failed. Trying audioread instead.\n",
            "  audio, sample_rate = librosa.load(file_name)\n",
            "c:\\Users\\humza\\Anaconda3\\lib\\site-packages\\librosa\\core\\audio.py:183: FutureWarning: librosa.core.audio.__audioread_load\n",
            "\tDeprecated as of librosa version 0.10.0.\n",
            "\tIt will be removed in librosa version 1.0.\n",
            "  y, sr_native = __audioread_load(path, offset, duration, dtype)\n",
            "100%|██████████| 11138/11138 [16:46<00:00, 11.06it/s]\n"
          ]
        },
        {
          "name": "stdout",
          "output_type": "stream",
          "text": [
            "Finished feature extraction from  11138  files\n"
          ]
        }
      ],
      "source": [
        "features = []\n",
        "# This process will be a bit slow because it's single threaded\n",
        "for index, row in tqdm(metadata.iterrows(), total=metadata.__len__()):\n",
        "    file_name = str(current_directory) + str(row[\"folder\"]) + \"/\"+ str(row[\"filename\"])\n",
        "    class_label = row[\"class\"]\n",
        "    data = extract_features(file_name)\n",
        "    features.append([data, class_label])\n",
        "# Convert into a Panda dataframe\n",
        "featuresdf = pd.DataFrame(features, columns=['feature','class'])\n",
        "\n",
        "print('Finished feature extraction from ', len(featuresdf), ' files')"
      ]
    },
    {
      "cell_type": "code",
      "execution_count": 12,
      "metadata": {
        "colab": {
          "base_uri": "https://localhost:8080/",
          "height": 206
        },
        "id": "Yura-73snx1s",
        "outputId": "9e96c9db-868e-4db9-a0e0-4ad7162d0129"
      },
      "outputs": [
        {
          "data": {
            "text/html": [
              "<div>\n",
              "<style scoped>\n",
              "    .dataframe tbody tr th:only-of-type {\n",
              "        vertical-align: middle;\n",
              "    }\n",
              "\n",
              "    .dataframe tbody tr th {\n",
              "        vertical-align: top;\n",
              "    }\n",
              "\n",
              "    .dataframe thead th {\n",
              "        text-align: right;\n",
              "    }\n",
              "</style>\n",
              "<table border=\"1\" class=\"dataframe\">\n",
              "  <thead>\n",
              "    <tr style=\"text-align: right;\">\n",
              "      <th></th>\n",
              "      <th>feature</th>\n",
              "      <th>class</th>\n",
              "    </tr>\n",
              "  </thead>\n",
              "  <tbody>\n",
              "    <tr>\n",
              "      <th>0</th>\n",
              "      <td>[-421.10275, 78.50895, 13.353661, 9.484657, 16...</td>\n",
              "      <td>1</td>\n",
              "    </tr>\n",
              "    <tr>\n",
              "      <th>1</th>\n",
              "      <td>[-400.56213, 111.33991, 23.567688, 22.711441, ...</td>\n",
              "      <td>1</td>\n",
              "    </tr>\n",
              "    <tr>\n",
              "      <th>2</th>\n",
              "      <td>[-379.65155, 125.1432, -0.29079124, 19.870483,...</td>\n",
              "      <td>1</td>\n",
              "    </tr>\n",
              "    <tr>\n",
              "      <th>3</th>\n",
              "      <td>[-328.57935, 130.68114, -4.098667, 8.577348, -...</td>\n",
              "      <td>1</td>\n",
              "    </tr>\n",
              "    <tr>\n",
              "      <th>4</th>\n",
              "      <td>[-336.47913, 134.46141, -5.6406884, 16.054068,...</td>\n",
              "      <td>1</td>\n",
              "    </tr>\n",
              "  </tbody>\n",
              "</table>\n",
              "</div>"
            ],
            "text/plain": [
              "                                             feature  class\n",
              "0  [-421.10275, 78.50895, 13.353661, 9.484657, 16...      1\n",
              "1  [-400.56213, 111.33991, 23.567688, 22.711441, ...      1\n",
              "2  [-379.65155, 125.1432, -0.29079124, 19.870483,...      1\n",
              "3  [-328.57935, 130.68114, -4.098667, 8.577348, -...      1\n",
              "4  [-336.47913, 134.46141, -5.6406884, 16.054068,...      1"
            ]
          },
          "execution_count": 12,
          "metadata": {},
          "output_type": "execute_result"
        }
      ],
      "source": [
        "featuresdf.head()"
      ]
    },
    {
      "cell_type": "code",
      "execution_count": 13,
      "metadata": {
        "colab": {
          "base_uri": "https://localhost:8080/",
          "height": 35
        },
        "id": "6Odt3LYTXXqC",
        "outputId": "d7327efc-eede-41cd-d64e-36093ce38b81"
      },
      "outputs": [
        {
          "data": {
            "text/plain": [
              "'# Encode the classification labels\\nle = LabelEncoder()\\nyy = keras.utils.to_categorical(le.fit_transform(y))'"
            ]
          },
          "execution_count": 13,
          "metadata": {},
          "output_type": "execute_result"
        }
      ],
      "source": [
        "from sklearn.preprocessing import LabelEncoder\n",
        "from tensorflow import keras\n",
        "\n",
        "# Convert features and corresponding classification labels into numpy arrays\n",
        "X = np.array(featuresdf.feature.tolist())\n",
        "class_list = featuresdf['class']\n",
        "y = np.array(class_list.tolist())\n",
        "\n",
        "'''# Encode the classification labels\n",
        "le = LabelEncoder()\n",
        "yy = keras.utils.to_categorical(le.fit_transform(y))'''"
      ]
    },
    {
      "cell_type": "code",
      "execution_count": 14,
      "metadata": {
        "colab": {
          "base_uri": "https://localhost:8080/"
        },
        "id": "NIICM4TGXmyK",
        "outputId": "3a9334c3-f62e-482c-d8a5-843751a139eb"
      },
      "outputs": [
        {
          "name": "stdout",
          "output_type": "stream",
          "text": [
            "11138\n",
            "(11138, 50)\n",
            "(11138,)\n"
          ]
        }
      ],
      "source": [
        "print(len(X))\n",
        "print(X.shape)\n",
        "print(y.shape)"
      ]
    },
    {
      "cell_type": "code",
      "execution_count": 15,
      "metadata": {
        "colab": {
          "base_uri": "https://localhost:8080/"
        },
        "id": "kL8YzsOMU6bz",
        "outputId": "15c1563c-799d-4cc3-9203-d9ba716c3bc2"
      },
      "outputs": [
        {
          "name": "stdout",
          "output_type": "stream",
          "text": [
            "0: 1161 times\n",
            "1: 9977 times\n"
          ]
        }
      ],
      "source": [
        "# Get unique values and their counts\n",
        "unique_values, counts = np.unique(y, return_counts=True)\n",
        "\n",
        "# Print the result\n",
        "for value, count in zip(unique_values, counts):\n",
        "    print(f\"{value}: {count} times\")\n"
      ]
    },
    {
      "cell_type": "code",
      "execution_count": 16,
      "metadata": {
        "colab": {
          "base_uri": "https://localhost:8080/"
        },
        "id": "lU_RzpxFW1oE",
        "outputId": "fb765d44-0929-4bc3-f6c6-3129bf94cf08"
      },
      "outputs": [
        {
          "name": "stdout",
          "output_type": "stream",
          "text": [
            "Class weights: [4.79672696 0.55818382]\n",
            "Class weights dictionary: {0: 4.796726959517657, 1: 0.5581838227924226}\n"
          ]
        }
      ],
      "source": [
        "from sklearn.utils.class_weight import compute_class_weight\n",
        "# Compute class weights\n",
        "class_weights = compute_class_weight('balanced', classes=np.unique(y), y=y)\n",
        "\n",
        "# Create a dictionary mapping class indices to their respective weights\n",
        "class_weights_dict = {class_index: weight for class_index, weight in enumerate(class_weights)}\n",
        "\n",
        "print(\"Class weights:\", class_weights)\n",
        "print(\"Class weights dictionary:\", class_weights_dict)"
      ]
    },
    {
      "cell_type": "code",
      "execution_count": 17,
      "metadata": {
        "id": "vT13tST4Xp39"
      },
      "outputs": [],
      "source": [
        "# split the dataset\n",
        "from sklearn.model_selection import train_test_split\n",
        "\n",
        "x_train, x_test, y_train, y_test = train_test_split(X, y, test_size=0.2, random_state = 42)"
      ]
    },
    {
      "cell_type": "code",
      "execution_count": 18,
      "metadata": {
        "id": "MVgmflp9XwCH"
      },
      "outputs": [],
      "source": [
        "import numpy as np\n",
        "from tensorflow import keras\n",
        "from tensorflow.keras.models import Sequential\n",
        "from tensorflow.keras.layers import Dense, Dropout, Activation, Flatten\n",
        "num_labels = 1\n",
        "filter_size = 2\n",
        "\n",
        "# Construct model\n",
        "model = Sequential()\n",
        "\n",
        "model.add(Dense(256, input_shape=(50,)))\n",
        "model.add(Activation('relu'))\n",
        "model.add(Dropout(0.5))\n",
        "\n",
        "model.add(Dense(512))\n",
        "model.add(Activation('relu'))\n",
        "model.add(Dropout(0.5))\n",
        "\n",
        "model.add(Dense(num_labels))\n",
        "model.add(Activation('sigmoid'))"
      ]
    },
    {
      "cell_type": "code",
      "execution_count": 19,
      "metadata": {
        "id": "45_0f9XcX1sU"
      },
      "outputs": [],
      "source": [
        "# Compile the model\n",
        "model.compile(loss='binary_crossentropy', metrics=['accuracy'], optimizer='adam')"
      ]
    },
    {
      "cell_type": "code",
      "execution_count": 20,
      "metadata": {
        "colab": {
          "base_uri": "https://localhost:8080/"
        },
        "id": "MdYriqsbX74C",
        "outputId": "51f14876-cdc5-4ec0-c875-2dfeaae7cbab"
      },
      "outputs": [
        {
          "name": "stdout",
          "output_type": "stream",
          "text": [
            "Model: \"sequential\"\n",
            "_________________________________________________________________\n",
            " Layer (type)                Output Shape              Param #   \n",
            "=================================================================\n",
            " dense (Dense)               (None, 256)               13056     \n",
            "                                                                 \n",
            " activation (Activation)     (None, 256)               0         \n",
            "                                                                 \n",
            " dropout (Dropout)           (None, 256)               0         \n",
            "                                                                 \n",
            " dense_1 (Dense)             (None, 512)               131584    \n",
            "                                                                 \n",
            " activation_1 (Activation)   (None, 512)               0         \n",
            "                                                                 \n",
            " dropout_1 (Dropout)         (None, 512)               0         \n",
            "                                                                 \n",
            " dense_2 (Dense)             (None, 1)                 513       \n",
            "                                                                 \n",
            " activation_2 (Activation)   (None, 1)                 0         \n",
            "                                                                 \n",
            "=================================================================\n",
            "Total params: 145,153\n",
            "Trainable params: 145,153\n",
            "Non-trainable params: 0\n",
            "_________________________________________________________________\n",
            "Pre-training accuracy: 89.9013%\n"
          ]
        }
      ],
      "source": [
        "# Display model architecture summary\n",
        "model.summary()\n",
        "\n",
        "# Calculate pre-training accuracy\n",
        "score = model.evaluate(x_test, y_test, verbose=0)\n",
        "accuracy = 100*score[1]\n",
        "\n",
        "print(\"Pre-training accuracy: %.4f%%\" % accuracy)"
      ]
    },
    {
      "cell_type": "code",
      "execution_count": 21,
      "metadata": {
        "colab": {
          "base_uri": "https://localhost:8080/"
        },
        "id": "sb23mpJ8YEYu",
        "outputId": "d6bd31c6-6afb-475e-d91e-492d71bf1a7a"
      },
      "outputs": [
        {
          "name": "stdout",
          "output_type": "stream",
          "text": [
            "Epoch 1/15\n",
            "223/223 [==============================] - 2s 5ms/step - loss: 6.3599 - accuracy: 0.7071 - val_loss: 0.6611 - val_accuracy: 0.8844\n",
            "Epoch 2/15\n",
            "223/223 [==============================] - 1s 4ms/step - loss: 1.3088 - accuracy: 0.8436 - val_loss: 0.1664 - val_accuracy: 0.9428\n",
            "Epoch 3/15\n",
            "223/223 [==============================] - 1s 5ms/step - loss: 0.6016 - accuracy: 0.8830 - val_loss: 0.3043 - val_accuracy: 0.8726\n",
            "Epoch 4/15\n",
            "223/223 [==============================] - 1s 4ms/step - loss: 0.3589 - accuracy: 0.8951 - val_loss: 0.1233 - val_accuracy: 0.9602\n",
            "Epoch 5/15\n",
            "223/223 [==============================] - 1s 5ms/step - loss: 0.2776 - accuracy: 0.9084 - val_loss: 0.1505 - val_accuracy: 0.9613\n",
            "Epoch 6/15\n",
            "223/223 [==============================] - 1s 5ms/step - loss: 0.2068 - accuracy: 0.9205 - val_loss: 0.1375 - val_accuracy: 0.9658\n",
            "Epoch 7/15\n",
            "223/223 [==============================] - 1s 5ms/step - loss: 0.1972 - accuracy: 0.9209 - val_loss: 0.1143 - val_accuracy: 0.9652\n",
            "Epoch 8/15\n",
            "223/223 [==============================] - 1s 5ms/step - loss: 0.1672 - accuracy: 0.9329 - val_loss: 0.1392 - val_accuracy: 0.9383\n",
            "Epoch 9/15\n",
            "223/223 [==============================] - 1s 5ms/step - loss: 0.1501 - accuracy: 0.9369 - val_loss: 0.0930 - val_accuracy: 0.9708\n",
            "Epoch 10/15\n",
            "223/223 [==============================] - 1s 5ms/step - loss: 0.1336 - accuracy: 0.9446 - val_loss: 0.0889 - val_accuracy: 0.9719\n",
            "Epoch 11/15\n",
            "223/223 [==============================] - 1s 4ms/step - loss: 0.1375 - accuracy: 0.9447 - val_loss: 0.0873 - val_accuracy: 0.9725\n",
            "Epoch 12/15\n",
            "223/223 [==============================] - 1s 5ms/step - loss: 0.1217 - accuracy: 0.9541 - val_loss: 0.1075 - val_accuracy: 0.9574\n",
            "Epoch 13/15\n",
            "223/223 [==============================] - 1s 5ms/step - loss: 0.1164 - accuracy: 0.9524 - val_loss: 0.0640 - val_accuracy: 0.9815\n",
            "Epoch 14/15\n",
            "223/223 [==============================] - 1s 5ms/step - loss: 0.0975 - accuracy: 0.9610 - val_loss: 0.0764 - val_accuracy: 0.9708\n",
            "Epoch 15/15\n",
            "223/223 [==============================] - 1s 5ms/step - loss: 0.1061 - accuracy: 0.9579 - val_loss: 0.0538 - val_accuracy: 0.9832\n",
            "Training completed in time:  0:00:16.944475\n"
          ]
        }
      ],
      "source": [
        "from tensorflow.keras.callbacks import ModelCheckpoint\n",
        "from datetime import datetime\n",
        "\n",
        "num_epochs = 15\n",
        "num_batch_size = 32\n",
        "\n",
        "# checkpointer = ModelCheckpoint(filepath='model/weights.hdf5',\n",
        "#                                verbose=1, save_best_only=True)\n",
        "start = datetime.now()\n",
        "\n",
        "graph = model.fit(x_train, y_train, batch_size=num_batch_size, epochs=num_epochs, verbose=1,validation_split=0.2,class_weight=class_weights_dict)\n",
        "\n",
        "duration = datetime.now() - start\n",
        "print(\"Training completed in time: \", duration)"
      ]
    },
    {
      "cell_type": "code",
      "execution_count": 22,
      "metadata": {
        "colab": {
          "base_uri": "https://localhost:8080/"
        },
        "id": "lCIPndzbY5fb",
        "outputId": "e723c9bd-772c-4ec8-9a87-3568150746f3"
      },
      "outputs": [
        {
          "name": "stdout",
          "output_type": "stream",
          "text": [
            "Training Accuracy:  0.9883303642272949\n"
          ]
        }
      ],
      "source": [
        "# Evaluating the model on the training and testing set\n",
        "score = model.evaluate(x_test, y_test, verbose=0)\n",
        "print(\"Training Accuracy: \", score[1])"
      ]
    },
    {
      "cell_type": "code",
      "execution_count": 23,
      "metadata": {
        "colab": {
          "base_uri": "https://localhost:8080/"
        },
        "id": "pGYYX1XVVQqB",
        "outputId": "5a1cf239-66c5-43e3-e520-edd84bcbefcd"
      },
      "outputs": [
        {
          "name": "stdout",
          "output_type": "stream",
          "text": [
            "70/70 [==============================] - 0s 2ms/step\n"
          ]
        },
        {
          "data": {
            "text/plain": [
              "array([[1.        ],\n",
              "       [0.88436085],\n",
              "       [0.9995731 ],\n",
              "       ...,\n",
              "       [0.8553359 ],\n",
              "       [0.9953507 ],\n",
              "       [0.9999621 ]], dtype=float32)"
            ]
          },
          "execution_count": 23,
          "metadata": {},
          "output_type": "execute_result"
        }
      ],
      "source": [
        "y_hat = model.predict(pd.DataFrame(x_test))\n",
        "y_hat"
      ]
    },
    {
      "cell_type": "code",
      "execution_count": 24,
      "metadata": {
        "id": "0i-ny5V_VW5z"
      },
      "outputs": [],
      "source": [
        "import numpy as np\n",
        "\n",
        "def transform_and_round(array_2d):\n",
        "    # Flatten the 2D array to 1D\n",
        "    array_1d = array_2d.flatten()\n",
        "\n",
        "    # Round off all values in the 1D array\n",
        "    rounded_array = np.round(array_1d)\n",
        "\n",
        "    return rounded_array"
      ]
    },
    {
      "cell_type": "code",
      "execution_count": 25,
      "metadata": {
        "colab": {
          "base_uri": "https://localhost:8080/"
        },
        "id": "PEjGPud-V8R0",
        "outputId": "77fe5134-5916-4176-9ab5-6d11947bdbe2"
      },
      "outputs": [
        {
          "data": {
            "text/plain": [
              "array([1., 1., 1., ..., 1., 1., 1.], dtype=float32)"
            ]
          },
          "execution_count": 25,
          "metadata": {},
          "output_type": "execute_result"
        }
      ],
      "source": [
        "y_pred = transform_and_round(y_hat)\n",
        "y_pred"
      ]
    },
    {
      "cell_type": "code",
      "execution_count": 26,
      "metadata": {
        "colab": {
          "base_uri": "https://localhost:8080/"
        },
        "id": "EKfI7jXxVFqk",
        "outputId": "31ee63e1-0c83-4014-ca9c-6c67c68f9260"
      },
      "outputs": [
        {
          "name": "stdout",
          "output_type": "stream",
          "text": [
            "              precision    recall  f1-score   support\n",
            "\n",
            "           0       0.93      0.96      0.94       225\n",
            "           1       0.99      0.99      0.99      2003\n",
            "\n",
            "    accuracy                           0.99      2228\n",
            "   macro avg       0.96      0.97      0.97      2228\n",
            "weighted avg       0.99      0.99      0.99      2228\n",
            "\n"
          ]
        }
      ],
      "source": [
        "from sklearn.metrics import classification_report\n",
        "print(classification_report(y_test, y_pred))"
      ]
    },
    {
      "cell_type": "code",
      "execution_count": 27,
      "metadata": {},
      "outputs": [],
      "source": [
        "featuresdf.to_csv(\"features.csv\")"
      ]
    },
    {
      "cell_type": "code",
      "execution_count": 28,
      "metadata": {},
      "outputs": [
        {
          "name": "stdout",
          "output_type": "stream",
          "text": [
            "[0.7070707082748413, 0.8435746431350708, 0.8829966187477112, 0.895061731338501, 0.9083894491195679, 0.9204545617103577, 0.9208754301071167, 0.9329405426979065, 0.9368686676025391, 0.9445847272872925, 0.9447250366210938, 0.9541245698928833, 0.9524410963058472, 0.9609988927841187, 0.9579124450683594]\n"
          ]
        }
      ],
      "source": [
        "training_accuracy=graph.history['accuracy']\n",
        "print(training_accuracy)"
      ]
    },
    {
      "cell_type": "code",
      "execution_count": 29,
      "metadata": {},
      "outputs": [
        {
          "data": {
            "image/png": "[encoded data removed]",
            "text/plain": [
              "<Figure size 640x480 with 1 Axes>"
            ]
          },
          "metadata": {},
          "output_type": "display_data"
        }
      ],
      "source": [
        "# Plot the training accuracy\n",
        "plt.plot(training_accuracy)\n",
        "plt.xlabel('Epoch')\n",
        "plt.ylabel('Accuracy')\n",
        "plt.title('Training Accuracy')\n",
        "plt.show()"
      ]
    }
  ],
  "metadata": {
    "accelerator": "GPU",
    "colab": {
      "gpuType": "T4",
      "provenance": []
    },
    "kernelspec": {
      "display_name": "Python 3",
      "name": "python3"
    },
    "language_info": {
      "codemirror_mode": {
        "name": "ipython",
        "version": 3
      },
      "file_extension": ".py",
      "mimetype": "text/x-python",
      "name": "python",
      "nbconvert_exporter": "python",
      "pygments_lexer": "ipython3",
      "version": "3.10.9"
    }
  },
  "nbformat": 4,
  "nbformat_minor": 0
}
